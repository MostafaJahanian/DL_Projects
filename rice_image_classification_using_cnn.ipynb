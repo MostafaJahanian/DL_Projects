{
  "nbformat": 4,
  "nbformat_minor": 0,
  "metadata": {
    "colab": {
      "provenance": [],
      "collapsed_sections": [],
      "authorship_tag": "ABX9TyOhMmUtk5EYO1Snyr6+y3hZ",
      "include_colab_link": true
    },
    "kernelspec": {
      "name": "python3",
      "display_name": "Python 3"
    },
    "language_info": {
      "name": "python"
    }
  },
  "cells": [
    {
      "cell_type": "markdown",
      "metadata": {
        "id": "view-in-github",
        "colab_type": "text"
      },
      "source": [
        "<a href=\"https://colab.research.google.com/github/MostafaJahanian/Free_Projects/blob/main/rice_image_classification_using_cnn.ipynb\" target=\"_parent\"><img src=\"https://colab.research.google.com/assets/colab-badge.svg\" alt=\"Open In Colab\"/></a>"
      ]
    },
    {
      "cell_type": "code",
      "execution_count": 1,
      "metadata": {
        "id": "yvRpF5r0rcvG"
      },
      "outputs": [],
      "source": [
        "! pip install -q kaggle"
      ]
    },
    {
      "cell_type": "code",
      "source": [
        "from google.colab import files\n",
        "files.upload()"
      ],
      "metadata": {
        "id": "3IDPgz6DrdRg"
      },
      "execution_count": null,
      "outputs": []
    },
    {
      "cell_type": "code",
      "source": [
        "! mkdir ~/.kaggle\n",
        "! cp kaggle.json ~/.kaggle/\n",
        "! chmod 600 ~/.kaggle/kaggle.json"
      ],
      "metadata": {
        "id": "-ZydjAAErfAW"
      },
      "execution_count": 3,
      "outputs": []
    },
    {
      "cell_type": "code",
      "source": [
        "! kaggle datasets download muratkokludataset/rice-image-dataset"
      ],
      "metadata": {
        "colab": {
          "base_uri": "https://localhost:8080/"
        },
        "id": "4K7EO-H5rga2",
        "outputId": "9d93b5f3-0c98-4039-9138-80508afd2ee6"
      },
      "execution_count": 4,
      "outputs": [
        {
          "output_type": "stream",
          "name": "stdout",
          "text": [
            "Downloading rice-image-dataset.zip to /content\n",
            " 92% 201M/219M [00:05<00:00, 33.4MB/s]\n",
            "100% 219M/219M [00:05<00:00, 41.2MB/s]\n"
          ]
        }
      ]
    },
    {
      "cell_type": "code",
      "source": [
        "! unzip rice-image-dataset.zip"
      ],
      "metadata": {
        "id": "dukSelEarp1z"
      },
      "execution_count": null,
      "outputs": []
    },
    {
      "cell_type": "code",
      "source": [
        "import tensorflow as tf\n",
        "from tensorflow import keras\n",
        "from tensorflow.keras import layers\n",
        "import pandas as pd\n",
        "import numpy as np\n",
        "import matplotlib.pyplot as plt\n",
        "import seaborn as sns\n",
        "from sklearn.model_selection import train_test_split\n",
        "from sklearn import metrics\n",
        "import random\n",
        "import pathlib\n",
        "import PIL"
      ],
      "metadata": {
        "id": "on-IQFSCruQO"
      },
      "execution_count": 18,
      "outputs": []
    },
    {
      "cell_type": "code",
      "source": [
        "tf.random.set_seed(42)\n",
        "\n",
        "train_images = keras.utils.image_dataset_from_directory('/content/Rice_Image_Dataset',\n",
        "                                                        validation_split = 0.2,\n",
        "                                                        subset = 'training', \n",
        "                                                        seed = 1)\n",
        "\n",
        "test_images = keras.utils.image_dataset_from_directory('/content/Rice_Image_Dataset',\n",
        "                                                       validation_split = 0.2,\n",
        "                                                       subset = 'validation',\n",
        "                                                       seed = 1)"
      ],
      "metadata": {
        "colab": {
          "base_uri": "https://localhost:8080/"
        },
        "id": "7qDfXK-gsCCA",
        "outputId": "58bf6ef5-055e-4b36-dc05-110802b7ed4b"
      },
      "execution_count": 11,
      "outputs": [
        {
          "output_type": "stream",
          "name": "stdout",
          "text": [
            "Found 75000 files belonging to 5 classes.\n",
            "Using 60000 files for training.\n",
            "Found 75000 files belonging to 5 classes.\n",
            "Using 15000 files for validation.\n"
          ]
        }
      ]
    },
    {
      "cell_type": "code",
      "source": [
        "train_images.class_names"
      ],
      "metadata": {
        "colab": {
          "base_uri": "https://localhost:8080/"
        },
        "id": "F21NdR4GtEzE",
        "outputId": "7ec67ed1-fb5a-4287-bca8-6cce5df92c1e"
      },
      "execution_count": 12,
      "outputs": [
        {
          "output_type": "execute_result",
          "data": {
            "text/plain": [
              "['Arborio', 'Basmati', 'Ipsala', 'Jasmine', 'Karacadag']"
            ]
          },
          "metadata": {},
          "execution_count": 12
        }
      ]
    },
    {
      "cell_type": "code",
      "source": [
        "data_dir = pathlib.Path('/content/Rice_Image_Dataset')\n",
        "\n",
        "for label in train_images.class_names:\n",
        "  images = list(data_dir.glob(f'{label}/*'))\n",
        "  print(len(images))"
      ],
      "metadata": {
        "colab": {
          "base_uri": "https://localhost:8080/"
        },
        "id": "EdFfawe6uBw5",
        "outputId": "15a7b8b5-25a1-4433-8b99-7a9ed79b8387"
      },
      "execution_count": 22,
      "outputs": [
        {
          "output_type": "stream",
          "name": "stdout",
          "text": [
            "15000\n",
            "15000\n",
            "15000\n",
            "15000\n",
            "15000\n"
          ]
        }
      ]
    },
    {
      "cell_type": "code",
      "source": [
        "basmati = list(data_dir.glob('Basmati/*'))\n",
        "PIL.Image.open(str(random.choice(basmati)))"
      ],
      "metadata": {
        "colab": {
          "base_uri": "https://localhost:8080/",
          "height": 267
        },
        "id": "1__Nw3_hut-P",
        "outputId": "5805771f-2967-4399-c204-115408b30cba"
      },
      "execution_count": 23,
      "outputs": [
        {
          "output_type": "execute_result",
          "data": {
            "text/plain": [
              "<PIL.JpegImagePlugin.JpegImageFile image mode=RGB size=250x250 at 0x7F76BB841E50>"
            ],
            "image/png": "[encoded data removed]"
          },
          "metadata": {},
          "execution_count": 23
        }
      ]
    },
    {
      "cell_type": "code",
      "source": [],
      "metadata": {
        "id": "pFzZskFs3ELJ"
      },
      "execution_count": null,
      "outputs": []
    }
  ]
}