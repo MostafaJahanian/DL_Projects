{
  "nbformat": 4,
  "nbformat_minor": 0,
  "metadata": {
    "colab": {
      "provenance": [],
      "collapsed_sections": [],
      "authorship_tag": "ABX9TyPhWr0q2hfu6N64ixiVB5Wd",
      "include_colab_link": true
    },
    "kernelspec": {
      "name": "python3",
      "display_name": "Python 3"
    },
    "language_info": {
      "name": "python"
    },
    "accelerator": "GPU",
    "gpuClass": "standard"
  },
  "cells": [
    {
      "cell_type": "markdown",
      "metadata": {
        "id": "view-in-github",
        "colab_type": "text"
      },
      "source": [
        "<a href=\"https://colab.research.google.com/github/MostafaJahanian/Free_Projects/blob/main/chest_xray_classification_using_cnn.ipynb\" target=\"_parent\"><img src=\"https://colab.research.google.com/assets/colab-badge.svg\" alt=\"Open In Colab\"/></a>"
      ]
    },
    {
      "cell_type": "code",
      "execution_count": 1,
      "metadata": {
        "id": "NQWgzp_E9VZr"
      },
      "outputs": [],
      "source": [
        "! pip install -q kaggle"
      ]
    },
    {
      "cell_type": "code",
      "source": [
        "from google.colab import files\n",
        "files.upload()"
      ],
      "metadata": {
        "id": "Ug5okfCS9bB5"
      },
      "execution_count": null,
      "outputs": []
    },
    {
      "cell_type": "code",
      "source": [
        "! mkdir ~/.kaggle\n",
        "! cp kaggle.json ~/.kaggle/\n",
        "! chmod 600 ~/.kaggle/kaggle.json"
      ],
      "metadata": {
        "id": "wcJDcAIt9fYL"
      },
      "execution_count": 3,
      "outputs": []
    },
    {
      "cell_type": "code",
      "source": [
        "! kaggle datasets download paultimothymooney/chest-xray-pneumonia"
      ],
      "metadata": {
        "colab": {
          "base_uri": "https://localhost:8080/"
        },
        "id": "lC_vUKXO9jDV",
        "outputId": "5b976257-ad55-498c-8283-13d500f38960"
      },
      "execution_count": 4,
      "outputs": [
        {
          "output_type": "stream",
          "name": "stdout",
          "text": [
            "Downloading chest-xray-pneumonia.zip to /content\n",
            " 99% 2.28G/2.29G [01:07<00:00, 17.8MB/s]\n",
            "100% 2.29G/2.29G [01:07<00:00, 36.3MB/s]\n"
          ]
        }
      ]
    },
    {
      "cell_type": "code",
      "source": [
        "! unzip chest-xray-pneumonia.zip"
      ],
      "metadata": {
        "id": "OIM1m9CW9kyl"
      },
      "execution_count": null,
      "outputs": []
    },
    {
      "cell_type": "code",
      "source": [
        "import tensorflow as tf\n",
        "from tensorflow import keras\n",
        "from tensorflow.keras import layers\n",
        "import pandas as pd\n",
        "import numpy as np\n",
        "import matplotlib.pyplot as plt\n",
        "import seaborn as sns\n",
        "from sklearn import metrics\n",
        "import random"
      ],
      "metadata": {
        "id": "p1u3wCBf-sYc"
      },
      "execution_count": 1,
      "outputs": []
    },
    {
      "cell_type": "code",
      "source": [
        "tf.random.set_seed(42)\n",
        "\n",
        "train_set = keras.utils.image_dataset_from_directory('chest_xray/train',\n",
        "                                                     validation_split = 0.05,\n",
        "                                                     subset = 'training',\n",
        "                                                     seed = 1)\n",
        "\n",
        "val_set_extra = keras.utils.image_dataset_from_directory('chest_xray/train',\n",
        "                                                     validation_split = 0.05,\n",
        "                                                     subset = 'validation',\n",
        "                                                     seed = 1)"
      ],
      "metadata": {
        "colab": {
          "base_uri": "https://localhost:8080/"
        },
        "id": "WPaBsPcW_P6w",
        "outputId": "3bf75ac5-ca4c-4053-efd1-e4775bfe5786"
      },
      "execution_count": 2,
      "outputs": [
        {
          "output_type": "stream",
          "name": "stdout",
          "text": [
            "Found 5216 files belonging to 2 classes.\n",
            "Using 4956 files for training.\n",
            "Found 5216 files belonging to 2 classes.\n",
            "Using 260 files for validation.\n"
          ]
        }
      ]
    },
    {
      "cell_type": "code",
      "source": [
        "test_set = keras.utils.image_dataset_from_directory('chest_xray/test')\n",
        "val_set_default = keras.utils.image_dataset_from_directory('chest_xray/val')"
      ],
      "metadata": {
        "colab": {
          "base_uri": "https://localhost:8080/"
        },
        "id": "DLiQxBpfAkRh",
        "outputId": "11663ed8-4dfd-4e8e-9556-9e97285b267a"
      },
      "execution_count": 3,
      "outputs": [
        {
          "output_type": "stream",
          "name": "stdout",
          "text": [
            "Found 624 files belonging to 2 classes.\n",
            "Found 16 files belonging to 2 classes.\n"
          ]
        }
      ]
    },
    {
      "cell_type": "code",
      "source": [
        "val_set_default.class_names, val_set_extra.class_names"
      ],
      "metadata": {
        "colab": {
          "base_uri": "https://localhost:8080/"
        },
        "id": "3vSAFrOlBQpe",
        "outputId": "7659c526-0d2a-4b29-fb5a-8b60564b9a54"
      },
      "execution_count": 4,
      "outputs": [
        {
          "output_type": "execute_result",
          "data": {
            "text/plain": [
              "(['NORMAL', 'PNEUMONIA'], ['NORMAL', 'PNEUMONIA'])"
            ]
          },
          "metadata": {},
          "execution_count": 4
        }
      ]
    },
    {
      "cell_type": "code",
      "source": [
        "val_set = val_set_default.concatenate(val_set_extra)"
      ],
      "metadata": {
        "id": "hClunFKGBdNK"
      },
      "execution_count": 5,
      "outputs": []
    },
    {
      "cell_type": "code",
      "source": [
        "tf.random.set_seed(42)\n",
        "\n",
        "cnn_1 = keras.Sequential([\n",
        "    layers.Rescaling(1./255),\n",
        "    layers.Conv2D(filters = 32, kernel_size = 3, input_shape = (256, 256, 3), activation = 'relu'),\n",
        "    layers.MaxPooling2D(pool_size = 2),\n",
        "    layers.Flatten(),\n",
        "    layers.Dropout(0.3),\n",
        "    layers.Dense(1, activation = 'sigmoid')\n",
        "])\n",
        "\n",
        "cnn_1.compile(\n",
        "    loss = keras.losses.BinaryCrossentropy(),\n",
        "    optimizer = keras.optimizers.Adam(),\n",
        "    metrics = 'accuracy'\n",
        ")\n",
        "\n",
        "history_1 = cnn_1.fit(train_set, epochs = 5, validation_data = val_set)"
      ],
      "metadata": {
        "colab": {
          "base_uri": "https://localhost:8080/"
        },
        "id": "hsOfIddKBha1",
        "outputId": "6e11a71d-5d3f-4499-dfe2-2db4aab0dd36"
      },
      "execution_count": 11,
      "outputs": [
        {
          "output_type": "stream",
          "name": "stdout",
          "text": [
            "Epoch 1/5\n",
            "155/155 [==============================] - 40s 168ms/step - loss: 0.6665 - accuracy: 0.8620 - val_loss: 0.1261 - val_accuracy: 0.9457\n",
            "Epoch 2/5\n",
            "155/155 [==============================] - 27s 163ms/step - loss: 0.0946 - accuracy: 0.9645 - val_loss: 0.0965 - val_accuracy: 0.9674\n",
            "Epoch 3/5\n",
            "155/155 [==============================] - 26s 163ms/step - loss: 0.0634 - accuracy: 0.9800 - val_loss: 0.0658 - val_accuracy: 0.9710\n",
            "Epoch 4/5\n",
            "155/155 [==============================] - 27s 164ms/step - loss: 0.0437 - accuracy: 0.9851 - val_loss: 0.0605 - val_accuracy: 0.9746\n",
            "Epoch 5/5\n",
            "155/155 [==============================] - 29s 178ms/step - loss: 0.0334 - accuracy: 0.9901 - val_loss: 0.0611 - val_accuracy: 0.9710\n"
          ]
        }
      ]
    },
    {
      "cell_type": "code",
      "source": [
        "cnn_1.evaluate(test_set)"
      ],
      "metadata": {
        "colab": {
          "base_uri": "https://localhost:8080/"
        },
        "id": "w3CUUKClClw2",
        "outputId": "1ed73f1c-0a0c-41aa-a03a-0d7afca47f98"
      },
      "execution_count": 12,
      "outputs": [
        {
          "output_type": "stream",
          "name": "stdout",
          "text": [
            "20/20 [==============================] - 3s 86ms/step - loss: 0.9549 - accuracy: 0.7580\n"
          ]
        },
        {
          "output_type": "execute_result",
          "data": {
            "text/plain": [
              "[0.9549060463905334, 0.7580128312110901]"
            ]
          },
          "metadata": {},
          "execution_count": 12
        }
      ]
    },
    {
      "cell_type": "code",
      "source": [
        "tf.random.set_seed(42)\n",
        "\n",
        "cnn_2 = keras.Sequential([\n",
        "    layers.Rescaling(1./255),\n",
        "    layers.Conv2D(filters = 32, kernel_size = 3, input_shape = (256, 256, 3), activation = 'relu'),\n",
        "    layers.MaxPooling2D(pool_size = 2),\n",
        "    layers.Flatten(),\n",
        "    layers.Dropout(0.3),\n",
        "    layers.Dense(1000, activation = 'relu'),\n",
        "    layers.Dropout(0.3),\n",
        "    layers.Dense(1, activation = 'sigmoid')\n",
        "])\n",
        "\n",
        "cnn_2.compile(\n",
        "    loss = keras.losses.BinaryCrossentropy(),\n",
        "    optimizer = keras.optimizers.Adam(),\n",
        "    metrics = 'accuracy'\n",
        ")\n",
        "\n",
        "history_2 = cnn_2.fit(train_set, epochs = 5, validation_data = val_set)"
      ],
      "metadata": {
        "id": "AwRnamzvKCOi",
        "colab": {
          "base_uri": "https://localhost:8080/"
        },
        "outputId": "a96e04b5-fbf3-4c23-a3ab-d768b8d2e226"
      },
      "execution_count": 13,
      "outputs": [
        {
          "output_type": "stream",
          "name": "stdout",
          "text": [
            "Epoch 1/5\n",
            "155/155 [==============================] - 34s 204ms/step - loss: 3.8859 - accuracy: 0.8737 - val_loss: 0.1061 - val_accuracy: 0.9638\n",
            "Epoch 2/5\n",
            "155/155 [==============================] - 34s 208ms/step - loss: 0.0670 - accuracy: 0.9754 - val_loss: 0.0751 - val_accuracy: 0.9783\n",
            "Epoch 3/5\n",
            "155/155 [==============================] - 33s 206ms/step - loss: 0.0292 - accuracy: 0.9897 - val_loss: 0.0521 - val_accuracy: 0.9891\n",
            "Epoch 4/5\n",
            "155/155 [==============================] - 33s 205ms/step - loss: 0.0125 - accuracy: 0.9972 - val_loss: 0.0728 - val_accuracy: 0.9819\n",
            "Epoch 5/5\n",
            "155/155 [==============================] - 33s 205ms/step - loss: 0.0091 - accuracy: 0.9972 - val_loss: 0.0940 - val_accuracy: 0.9746\n"
          ]
        }
      ]
    },
    {
      "cell_type": "code",
      "source": [
        "cnn_2.evaluate(test_set)"
      ],
      "metadata": {
        "colab": {
          "base_uri": "https://localhost:8080/"
        },
        "id": "oLufX-t-86Nl",
        "outputId": "2b547e1e-7d16-4e27-8a4f-3c26b8e753cf"
      },
      "execution_count": 14,
      "outputs": [
        {
          "output_type": "stream",
          "name": "stdout",
          "text": [
            "20/20 [==============================] - 3s 93ms/step - loss: 1.1134 - accuracy: 0.7981\n"
          ]
        },
        {
          "output_type": "execute_result",
          "data": {
            "text/plain": [
              "[1.1134395599365234, 0.7980769276618958]"
            ]
          },
          "metadata": {},
          "execution_count": 14
        }
      ]
    },
    {
      "cell_type": "code",
      "source": [
        "tf.random.set_seed(42)\n",
        "\n",
        "cnn_3 = keras.Sequential([\n",
        "    layers.Rescaling(1./255),\n",
        "    layers.RandomFlip(),\n",
        "    layers.RandomRotation(0.3),\n",
        "    layers.Conv2D(filters = 32, kernel_size = 3, input_shape = (256, 256, 3), activation = 'relu'),\n",
        "    layers.MaxPooling2D(pool_size = 2),\n",
        "    layers.Flatten(),\n",
        "    layers.Dropout(0.3),\n",
        "    layers.Dense(1000, activation = 'relu'),\n",
        "    layers.Dropout(0.3),\n",
        "    layers.Dense(1, activation = 'sigmoid')\n",
        "])\n",
        "\n",
        "cnn_3.compile(\n",
        "    loss = keras.losses.BinaryCrossentropy(),\n",
        "    optimizer = keras.optimizers.Adam(),\n",
        "    metrics = 'accuracy'\n",
        ")\n",
        "\n",
        "history_3 = cnn_3.fit(train_set, epochs = 5, validation_data = val_set)"
      ],
      "metadata": {
        "colab": {
          "base_uri": "https://localhost:8080/"
        },
        "id": "Doz_jDD49_Nc",
        "outputId": "079a70e7-1d86-4a81-8b36-6fff31d74d03"
      },
      "execution_count": 6,
      "outputs": [
        {
          "output_type": "stream",
          "name": "stdout",
          "text": [
            "Epoch 1/5\n",
            "155/155 [==============================] - 40s 222ms/step - loss: 2.4818 - accuracy: 0.7928 - val_loss: 0.2769 - val_accuracy: 0.8877\n",
            "Epoch 2/5\n",
            "155/155 [==============================] - 33s 205ms/step - loss: 0.2896 - accuracy: 0.8810 - val_loss: 0.2135 - val_accuracy: 0.9275\n",
            "Epoch 3/5\n",
            "155/155 [==============================] - 34s 212ms/step - loss: 0.2662 - accuracy: 0.8840 - val_loss: 0.2210 - val_accuracy: 0.9058\n",
            "Epoch 4/5\n",
            "155/155 [==============================] - 33s 206ms/step - loss: 0.2436 - accuracy: 0.9031 - val_loss: 0.2279 - val_accuracy: 0.9094\n",
            "Epoch 5/5\n",
            "155/155 [==============================] - 33s 206ms/step - loss: 0.2450 - accuracy: 0.8969 - val_loss: 0.2039 - val_accuracy: 0.9167\n"
          ]
        }
      ]
    },
    {
      "cell_type": "code",
      "source": [
        "cnn_3.evaluate(test_set)"
      ],
      "metadata": {
        "colab": {
          "base_uri": "https://localhost:8080/"
        },
        "id": "Q7EziMRU-ynO",
        "outputId": "2de57596-1432-427e-d961-e6daf83bc144"
      },
      "execution_count": 7,
      "outputs": [
        {
          "output_type": "stream",
          "name": "stdout",
          "text": [
            "20/20 [==============================] - 3s 89ms/step - loss: 0.4811 - accuracy: 0.8269\n"
          ]
        },
        {
          "output_type": "execute_result",
          "data": {
            "text/plain": [
              "[0.48112282156944275, 0.8269230723381042]"
            ]
          },
          "metadata": {},
          "execution_count": 7
        }
      ]
    },
    {
      "cell_type": "code",
      "source": [
        "tf.random.set_seed(42)\n",
        "\n",
        "cnn_4 = keras.Sequential([\n",
        "    layers.Rescaling(1./255),\n",
        "    layers.RandomFlip(),\n",
        "    layers.RandomRotation(0.3),\n",
        "    layers.Conv2D(filters = 32, kernel_size = 3, input_shape = (256, 256, 3), activation = 'relu'),\n",
        "    layers.MaxPooling2D(pool_size = 2),\n",
        "    layers.Flatten(),\n",
        "    layers.Dropout(0.3),\n",
        "    layers.Dense(1000, activation = 'relu'),\n",
        "    layers.Dropout(0.3),\n",
        "    layers.Dense(1, activation = 'sigmoid')\n",
        "])\n",
        "\n",
        "cnn_4.compile(\n",
        "    loss = keras.losses.BinaryCrossentropy(),\n",
        "    optimizer = keras.optimizers.Adam(),\n",
        "    metrics = 'accuracy'\n",
        ")\n",
        "\n",
        "history_4 = cnn_4.fit(train_set, epochs = 10, validation_data = val_set)"
      ],
      "metadata": {
        "colab": {
          "base_uri": "https://localhost:8080/"
        },
        "id": "E3C-5dgA_dM2",
        "outputId": "6c345d05-09c3-436f-9961-43699c3197f0"
      },
      "execution_count": 8,
      "outputs": [
        {
          "output_type": "stream",
          "name": "stdout",
          "text": [
            "Epoch 1/10\n",
            "155/155 [==============================] - 34s 205ms/step - loss: 3.0841 - accuracy: 0.7631 - val_loss: 0.3901 - val_accuracy: 0.8007\n",
            "Epoch 2/10\n",
            "155/155 [==============================] - 33s 207ms/step - loss: 0.3161 - accuracy: 0.8579 - val_loss: 0.4292 - val_accuracy: 0.8043\n",
            "Epoch 3/10\n",
            "155/155 [==============================] - 33s 206ms/step - loss: 0.2866 - accuracy: 0.8773 - val_loss: 0.2258 - val_accuracy: 0.9275\n",
            "Epoch 4/10\n",
            "155/155 [==============================] - 33s 208ms/step - loss: 0.2598 - accuracy: 0.8918 - val_loss: 0.2294 - val_accuracy: 0.9022\n",
            "Epoch 5/10\n",
            "155/155 [==============================] - 34s 208ms/step - loss: 0.2576 - accuracy: 0.8921 - val_loss: 0.2911 - val_accuracy: 0.8514\n",
            "Epoch 6/10\n",
            "155/155 [==============================] - 33s 206ms/step - loss: 0.2405 - accuracy: 0.8971 - val_loss: 0.2194 - val_accuracy: 0.9130\n",
            "Epoch 7/10\n",
            "155/155 [==============================] - 33s 207ms/step - loss: 0.2353 - accuracy: 0.9005 - val_loss: 0.2308 - val_accuracy: 0.9239\n",
            "Epoch 8/10\n",
            "155/155 [==============================] - 33s 206ms/step - loss: 0.2324 - accuracy: 0.9054 - val_loss: 0.2358 - val_accuracy: 0.9275\n",
            "Epoch 9/10\n",
            "155/155 [==============================] - 33s 207ms/step - loss: 0.2130 - accuracy: 0.9130 - val_loss: 0.2067 - val_accuracy: 0.9384\n",
            "Epoch 10/10\n",
            "155/155 [==============================] - 33s 207ms/step - loss: 0.2092 - accuracy: 0.9132 - val_loss: 0.1895 - val_accuracy: 0.9312\n"
          ]
        }
      ]
    },
    {
      "cell_type": "code",
      "source": [
        "cnn_4.evaluate(test_set)"
      ],
      "metadata": {
        "colab": {
          "base_uri": "https://localhost:8080/"
        },
        "id": "E8aWE6vzAkkp",
        "outputId": "01143c7e-af0e-44b8-9e46-4a377f170308"
      },
      "execution_count": 9,
      "outputs": [
        {
          "output_type": "stream",
          "name": "stdout",
          "text": [
            "20/20 [==============================] - 3s 86ms/step - loss: 0.4466 - accuracy: 0.8558\n"
          ]
        },
        {
          "output_type": "execute_result",
          "data": {
            "text/plain": [
              "[0.44661760330200195, 0.8557692170143127]"
            ]
          },
          "metadata": {},
          "execution_count": 9
        }
      ]
    },
    {
      "cell_type": "code",
      "source": [
        "tf.random.set_seed(42)\n",
        "\n",
        "cnn_5 = keras.Sequential([\n",
        "    layers.Rescaling(1./255),\n",
        "    layers.RandomFlip(),\n",
        "    layers.RandomRotation(0.3),\n",
        "    layers.Conv2D(filters = 32, kernel_size = 3, input_shape = (256, 256, 3), activation = 'relu'),\n",
        "    layers.MaxPooling2D(pool_size = 2),\n",
        "    layers.Flatten(),\n",
        "    layers.Dropout(0.3),\n",
        "    layers.Dense(1000, activation = 'relu'),\n",
        "    layers.Dropout(0.3),\n",
        "    layers.Dense(1, activation = 'sigmoid')\n",
        "])\n",
        "\n",
        "cnn_5.compile(\n",
        "    loss = keras.losses.BinaryCrossentropy(),\n",
        "    optimizer = keras.optimizers.Adam(),\n",
        "    metrics = 'accuracy'\n",
        ")\n",
        "\n",
        "history_5 = cnn_5.fit(train_set, epochs = 20, validation_data = val_set)"
      ],
      "metadata": {
        "colab": {
          "base_uri": "https://localhost:8080/"
        },
        "id": "BIXR4lzBCBN9",
        "outputId": "f3e13c6d-7faf-47c4-a9cd-90a61dcd019d"
      },
      "execution_count": 7,
      "outputs": [
        {
          "output_type": "stream",
          "name": "stdout",
          "text": [
            "Epoch 1/20\n",
            "155/155 [==============================] - 40s 210ms/step - loss: 2.9484 - accuracy: 0.7589 - val_loss: 0.2996 - val_accuracy: 0.8804\n",
            "Epoch 2/20\n",
            "155/155 [==============================] - 34s 209ms/step - loss: 0.3215 - accuracy: 0.8600 - val_loss: 0.3203 - val_accuracy: 0.8659\n",
            "Epoch 3/20\n",
            "155/155 [==============================] - 33s 205ms/step - loss: 0.2914 - accuracy: 0.8769 - val_loss: 0.2635 - val_accuracy: 0.8659\n",
            "Epoch 4/20\n",
            "155/155 [==============================] - 33s 205ms/step - loss: 0.2532 - accuracy: 0.8961 - val_loss: 0.2453 - val_accuracy: 0.9022\n",
            "Epoch 5/20\n",
            "155/155 [==============================] - 33s 207ms/step - loss: 0.2402 - accuracy: 0.8997 - val_loss: 0.2840 - val_accuracy: 0.8804\n",
            "Epoch 6/20\n",
            "155/155 [==============================] - 33s 207ms/step - loss: 0.2592 - accuracy: 0.8898 - val_loss: 0.2131 - val_accuracy: 0.9167\n",
            "Epoch 7/20\n",
            "155/155 [==============================] - 34s 209ms/step - loss: 0.2325 - accuracy: 0.9064 - val_loss: 0.2101 - val_accuracy: 0.9312\n",
            "Epoch 8/20\n",
            "155/155 [==============================] - 33s 206ms/step - loss: 0.2263 - accuracy: 0.9040 - val_loss: 0.1938 - val_accuracy: 0.9348\n",
            "Epoch 9/20\n",
            "155/155 [==============================] - 33s 204ms/step - loss: 0.2251 - accuracy: 0.9080 - val_loss: 0.1953 - val_accuracy: 0.9348\n",
            "Epoch 10/20\n",
            "155/155 [==============================] - 33s 206ms/step - loss: 0.2185 - accuracy: 0.9080 - val_loss: 0.2082 - val_accuracy: 0.9275\n",
            "Epoch 11/20\n",
            "155/155 [==============================] - 33s 206ms/step - loss: 0.2319 - accuracy: 0.9052 - val_loss: 0.1959 - val_accuracy: 0.9384\n",
            "Epoch 12/20\n",
            "155/155 [==============================] - 33s 206ms/step - loss: 0.2084 - accuracy: 0.9146 - val_loss: 0.1874 - val_accuracy: 0.9348\n",
            "Epoch 13/20\n",
            "155/155 [==============================] - 33s 205ms/step - loss: 0.2083 - accuracy: 0.9146 - val_loss: 0.2283 - val_accuracy: 0.9094\n",
            "Epoch 14/20\n",
            "155/155 [==============================] - 33s 207ms/step - loss: 0.2138 - accuracy: 0.9142 - val_loss: 0.2036 - val_accuracy: 0.9239\n",
            "Epoch 15/20\n",
            "155/155 [==============================] - 33s 205ms/step - loss: 0.2062 - accuracy: 0.9157 - val_loss: 0.3238 - val_accuracy: 0.8370\n",
            "Epoch 16/20\n",
            "155/155 [==============================] - 33s 206ms/step - loss: 0.1881 - accuracy: 0.9266 - val_loss: 0.1765 - val_accuracy: 0.9493\n",
            "Epoch 17/20\n",
            "155/155 [==============================] - 33s 207ms/step - loss: 0.1970 - accuracy: 0.9221 - val_loss: 0.1786 - val_accuracy: 0.9420\n",
            "Epoch 18/20\n",
            "155/155 [==============================] - 33s 206ms/step - loss: 0.1963 - accuracy: 0.9233 - val_loss: 0.1784 - val_accuracy: 0.9275\n",
            "Epoch 19/20\n",
            "155/155 [==============================] - 33s 207ms/step - loss: 0.1821 - accuracy: 0.9272 - val_loss: 0.1696 - val_accuracy: 0.9348\n",
            "Epoch 20/20\n",
            "155/155 [==============================] - 34s 208ms/step - loss: 0.1938 - accuracy: 0.9223 - val_loss: 0.1802 - val_accuracy: 0.9457\n"
          ]
        }
      ]
    },
    {
      "cell_type": "code",
      "source": [
        "cnn_5.evaluate(test_set)"
      ],
      "metadata": {
        "colab": {
          "base_uri": "https://localhost:8080/"
        },
        "id": "0NlmS9ycE5ov",
        "outputId": "1a23cab2-9488-4a0d-9ffe-21d86e39d62a"
      },
      "execution_count": 8,
      "outputs": [
        {
          "output_type": "stream",
          "name": "stdout",
          "text": [
            "20/20 [==============================] - 3s 88ms/step - loss: 0.4313 - accuracy: 0.8558\n"
          ]
        },
        {
          "output_type": "execute_result",
          "data": {
            "text/plain": [
              "[0.4313231110572815, 0.8557692170143127]"
            ]
          },
          "metadata": {},
          "execution_count": 8
        }
      ]
    },
    {
      "cell_type": "code",
      "source": [
        "tf.random.set_seed(42)\n",
        "\n",
        "cnn_6 = keras.Sequential([\n",
        "    layers.Rescaling(1./255),\n",
        "    layers.RandomFlip(),\n",
        "    layers.RandomRotation(0.3),\n",
        "    layers.Conv2D(filters = 32, kernel_size = 3, input_shape = (256, 256, 3), activation = 'relu'),\n",
        "    layers.MaxPooling2D(pool_size = 2),\n",
        "    layers.Flatten(),\n",
        "    layers.Dropout(0.3),\n",
        "    layers.Dense(1000, activation = 'relu'),\n",
        "    layers.Dropout(0.3),\n",
        "    layers.Dense(1, activation = 'sigmoid')\n",
        "])\n",
        "\n",
        "cnn_6.compile(\n",
        "    loss = keras.losses.BinaryCrossentropy(),\n",
        "    optimizer = keras.optimizers.SGD(),\n",
        "    metrics = 'accuracy'\n",
        ")\n",
        "\n",
        "history_6 = cnn_6.fit(train_set, epochs = 10, validation_data = val_set)"
      ],
      "metadata": {
        "colab": {
          "base_uri": "https://localhost:8080/"
        },
        "id": "6MBIcaFrFLXu",
        "outputId": "20997fd1-d9b6-4d18-d427-700a5f363338"
      },
      "execution_count": 6,
      "outputs": [
        {
          "output_type": "stream",
          "name": "stdout",
          "text": [
            "Epoch 1/10\n",
            "155/155 [==============================] - 35s 190ms/step - loss: 0.5514 - accuracy: 0.7496 - val_loss: 0.6713 - val_accuracy: 0.7174\n",
            "Epoch 2/10\n",
            "155/155 [==============================] - 31s 189ms/step - loss: 0.4049 - accuracy: 0.8200 - val_loss: 0.4499 - val_accuracy: 0.8043\n",
            "Epoch 3/10\n",
            "155/155 [==============================] - 30s 188ms/step - loss: 0.3199 - accuracy: 0.8678 - val_loss: 0.3185 - val_accuracy: 0.8768\n",
            "Epoch 4/10\n",
            "155/155 [==============================] - 31s 194ms/step - loss: 0.2985 - accuracy: 0.8723 - val_loss: 0.3285 - val_accuracy: 0.8587\n",
            "Epoch 5/10\n",
            "155/155 [==============================] - 30s 187ms/step - loss: 0.2788 - accuracy: 0.8814 - val_loss: 0.3547 - val_accuracy: 0.8188\n",
            "Epoch 6/10\n",
            "155/155 [==============================] - 30s 188ms/step - loss: 0.2733 - accuracy: 0.8814 - val_loss: 0.3052 - val_accuracy: 0.8804\n",
            "Epoch 7/10\n",
            "155/155 [==============================] - 30s 187ms/step - loss: 0.2736 - accuracy: 0.8876 - val_loss: 0.3043 - val_accuracy: 0.8841\n",
            "Epoch 8/10\n",
            "155/155 [==============================] - 31s 192ms/step - loss: 0.2664 - accuracy: 0.8888 - val_loss: 0.3504 - val_accuracy: 0.8370\n",
            "Epoch 9/10\n",
            "155/155 [==============================] - 30s 185ms/step - loss: 0.2657 - accuracy: 0.8896 - val_loss: 0.2979 - val_accuracy: 0.8804\n",
            "Epoch 10/10\n",
            "155/155 [==============================] - 30s 187ms/step - loss: 0.2615 - accuracy: 0.8898 - val_loss: 0.2912 - val_accuracy: 0.8877\n"
          ]
        }
      ]
    },
    {
      "cell_type": "code",
      "source": [
        "cnn_6.evaluate(test_set)"
      ],
      "metadata": {
        "colab": {
          "base_uri": "https://localhost:8080/"
        },
        "id": "LUcU4dBMLh5r",
        "outputId": "cc68d5f7-c68e-4109-a46b-a7163f40a726"
      },
      "execution_count": 7,
      "outputs": [
        {
          "output_type": "stream",
          "name": "stdout",
          "text": [
            "20/20 [==============================] - 3s 90ms/step - loss: 0.4330 - accuracy: 0.8333\n"
          ]
        },
        {
          "output_type": "execute_result",
          "data": {
            "text/plain": [
              "[0.4329521059989929, 0.8333333134651184]"
            ]
          },
          "metadata": {},
          "execution_count": 7
        }
      ]
    },
    {
      "cell_type": "code",
      "source": [],
      "metadata": {
        "id": "ogO7zq29NMpC"
      },
      "execution_count": null,
      "outputs": []
    }
  ]
}