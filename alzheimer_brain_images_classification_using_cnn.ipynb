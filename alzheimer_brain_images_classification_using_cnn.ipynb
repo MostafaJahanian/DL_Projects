{
  "nbformat": 4,
  "nbformat_minor": 0,
  "metadata": {
    "colab": {
      "provenance": [],
      "collapsed_sections": [],
      "authorship_tag": "ABX9TyN0FCQh4bJ60Vkh+C0AzaaJ",
      "include_colab_link": true
    },
    "kernelspec": {
      "name": "python3",
      "display_name": "Python 3"
    },
    "language_info": {
      "name": "python"
    }
  },
  "cells": [
    {
      "cell_type": "markdown",
      "metadata": {
        "id": "view-in-github",
        "colab_type": "text"
      },
      "source": [
        "<a href=\"https://colab.research.google.com/github/MostafaJahanian/Free_Projects/blob/main/alzheimer_brain_images_classification_using_cnn.ipynb\" target=\"_parent\"><img src=\"https://colab.research.google.com/assets/colab-badge.svg\" alt=\"Open In Colab\"/></a>"
      ]
    },
    {
      "cell_type": "markdown",
      "source": [
        "## Importing Data From Kaggle"
      ],
      "metadata": {
        "id": "N2AZ57M9A7aP"
      }
    },
    {
      "cell_type": "code",
      "execution_count": 1,
      "metadata": {
        "id": "97le4a-PARIC"
      },
      "outputs": [],
      "source": [
        "! pip install -q kaggle"
      ]
    },
    {
      "cell_type": "code",
      "source": [
        "from google.colab import files\n",
        "files.upload()"
      ],
      "metadata": {
        "id": "lXxVeWjaAaxM"
      },
      "execution_count": null,
      "outputs": []
    },
    {
      "cell_type": "code",
      "source": [
        "! mkdir ~/.kaggle\n",
        "! cp kaggle.json ~/.kaggle/\n",
        "! chmod 600 ~/.kaggle/kaggle.json"
      ],
      "metadata": {
        "id": "6cHPfcXUAhjY"
      },
      "execution_count": 3,
      "outputs": []
    },
    {
      "cell_type": "code",
      "source": [
        "! kaggle datasets download tourist55/alzheimers-dataset-4-class-of-images"
      ],
      "metadata": {
        "colab": {
          "base_uri": "https://localhost:8080/"
        },
        "id": "U0CAMJYlAk5D",
        "outputId": "fe60268b-b79b-4e4f-e9bb-1894dcb889f8"
      },
      "execution_count": 4,
      "outputs": [
        {
          "output_type": "stream",
          "name": "stdout",
          "text": [
            "Downloading alzheimers-dataset-4-class-of-images.zip to /content\n",
            " 85% 29.0M/34.1M [00:00<00:00, 91.5MB/s]\n",
            "100% 34.1M/34.1M [00:00<00:00, 83.6MB/s]\n"
          ]
        }
      ]
    },
    {
      "cell_type": "code",
      "source": [
        "! unzip alzheimers-dataset-4-class-of-images.zip"
      ],
      "metadata": {
        "id": "18Fi5XgmAy6y"
      },
      "execution_count": null,
      "outputs": []
    },
    {
      "cell_type": "markdown",
      "source": [
        "## Create Datasets From Images"
      ],
      "metadata": {
        "id": "9yhDi8FDA1Df"
      }
    },
    {
      "cell_type": "code",
      "source": [
        "import tensorflow as tf \n",
        "from tensorflow import keras\n",
        "from tensorflow.keras import layers\n",
        "import pandas as pd\n",
        "import numpy as np\n",
        "import matplotlib.pyplot as plt\n",
        "from sklearn import metrics\n",
        "import random\n",
        "import pathlib"
      ],
      "metadata": {
        "id": "G4BzGwWIBFng"
      },
      "execution_count": 7,
      "outputs": []
    },
    {
      "cell_type": "code",
      "source": [
        "tf.random.set_seed(42)\n",
        "\n",
        "train_set = keras.utils.image_dataset_from_directory('/content/Alzheimer_s Dataset/train',\n",
        "                                                     validation_split = 0.2,\n",
        "                                                     subset = 'training',\n",
        "                                                     seed = 1,\n",
        "                                                     shuffle = True)\n",
        "\n",
        "val_set = keras.utils.image_dataset_from_directory('/content/Alzheimer_s Dataset/train',\n",
        "                                                   validation_split = 0.2,\n",
        "                                                   subset = 'validation',\n",
        "                                                   seed = 1,\n",
        "                                                   shuffle = True)\n",
        "\n",
        "test_set = keras.utils.image_dataset_from_directory('/content/Alzheimer_s Dataset/test')"
      ],
      "metadata": {
        "colab": {
          "base_uri": "https://localhost:8080/"
        },
        "id": "y3oEx5IcCIK6",
        "outputId": "422da015-5ea1-4a35-ddb9-23ba8076794b"
      },
      "execution_count": 8,
      "outputs": [
        {
          "output_type": "stream",
          "name": "stdout",
          "text": [
            "Found 5121 files belonging to 4 classes.\n",
            "Using 4097 files for training.\n",
            "Found 5121 files belonging to 4 classes.\n",
            "Using 1024 files for validation.\n",
            "Found 1279 files belonging to 4 classes.\n"
          ]
        }
      ]
    },
    {
      "cell_type": "code",
      "source": [
        "train_set.class_names, test_set.class_names"
      ],
      "metadata": {
        "colab": {
          "base_uri": "https://localhost:8080/"
        },
        "id": "s7e9ZEywCv36",
        "outputId": "7b41c5e2-33ea-4b2f-e460-fd1bfefad685"
      },
      "execution_count": 9,
      "outputs": [
        {
          "output_type": "execute_result",
          "data": {
            "text/plain": [
              "(['MildDemented', 'ModerateDemented', 'NonDemented', 'VeryMildDemented'],\n",
              " ['MildDemented', 'ModerateDemented', 'NonDemented', 'VeryMildDemented'])"
            ]
          },
          "metadata": {},
          "execution_count": 9
        }
      ]
    },
    {
      "cell_type": "code",
      "source": [
        "train_dir = pathlib.Path('/content/Alzheimer_s Dataset/train')\n",
        "\n",
        "for label in train_set.class_names:\n",
        "  images = list(train_dir.glob(f'{label}/*'))\n",
        "  print(f'{label} : {len(images)}')"
      ],
      "metadata": {
        "colab": {
          "base_uri": "https://localhost:8080/"
        },
        "id": "wN-X4rztC1Ns",
        "outputId": "e06805b8-3a6c-4204-e72f-759400354efc"
      },
      "execution_count": 12,
      "outputs": [
        {
          "output_type": "stream",
          "name": "stdout",
          "text": [
            "MildDemented : 717\n",
            "ModerateDemented : 52\n",
            "NonDemented : 2560\n",
            "VeryMildDemented : 1792\n"
          ]
        }
      ]
    },
    {
      "cell_type": "markdown",
      "source": [
        "--- The dataset is severly imbalanced, and this can cause several problems for training a model. Some augmentation techniques must be adopted aiming to increase the number of images in some of the classes."
      ],
      "metadata": {
        "id": "tBgSIUDzKJbp"
      }
    },
    {
      "cell_type": "code",
      "source": [],
      "metadata": {
        "id": "bJOURy97K6YZ"
      },
      "execution_count": null,
      "outputs": []
    }
  ]
}